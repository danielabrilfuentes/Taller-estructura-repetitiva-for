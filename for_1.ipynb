{
  "nbformat": 4,
  "nbformat_minor": 0,
  "metadata": {
    "colab": {
      "provenance": [],
      "authorship_tag": "ABX9TyM44F6KMniFexmzmthVnPw0",
      "include_colab_link": true
    },
    "kernelspec": {
      "name": "python3",
      "display_name": "Python 3"
    },
    "language_info": {
      "name": "python"
    }
  },
  "cells": [
    {
      "cell_type": "markdown",
      "metadata": {
        "id": "view-in-github",
        "colab_type": "text"
      },
      "source": [
        "<a href=\"https://colab.research.google.com/github/danielabrilfuentes/Taller-estructura-repetitiva-for/blob/main/for_1.ipynb\" target=\"_parent\"><img src=\"https://colab.research.google.com/assets/colab-badge.svg\" alt=\"Open In Colab\"/></a>"
      ]
    },
    {
      "cell_type": "markdown",
      "source": [
        "#"
      ],
      "metadata": {
        "id": "wS4yfC7kWxtf"
      }
    },
    {
      "cell_type": "code",
      "source": [
        "# ejercicio no1\n",
        "\n",
        "print(\"biemvenidos a google colaboratori\")\n",
        "\n",
        "suma = 0\n",
        "serie = list(range(1,11))\n",
        "for i in range(1,11):\n",
        "  suma = suma + i\n",
        "\n",
        "  print(\"la suma es: \" + str(suma))\n",
        "  print(serie)\n"
      ],
      "metadata": {
        "id": "kuD23Iu3T3WD"
      },
      "execution_count": null,
      "outputs": []
    },
    {
      "cell_type": "code",
      "execution_count": null,
      "metadata": {
        "id": "xKXLIATcSK9P"
      },
      "outputs": [],
      "source": [
        "print(\"biemvenido a google colab \")\n",
        "\n",
        "#ejercicio no2\n",
        "\n",
        "print(1)\n",
        "print(2)\n",
        "print(3)\n",
        "print(4)\n",
        "print(5)\n",
        "print(6)\n",
        "print(7)\n",
        "print(8)\n",
        "print(9)\n",
        "print(10)\n"
      ]
    },
    {
      "cell_type": "code",
      "source": [
        "#ejercicio no 3\n",
        "\n",
        "i = 1\n",
        "while (i <= 10):\n",
        "  print(i)\n",
        "  i = i + 1"
      ],
      "metadata": {
        "id": "WpwkKJcaQX3z"
      },
      "execution_count": null,
      "outputs": []
    },
    {
      "cell_type": "code",
      "source": [
        "# ejercicio no4\n",
        "\n",
        "for i in range(1,11):\n",
        "  print(i)\n"
      ],
      "metadata": {
        "id": "t1lbGxQYRSBO"
      },
      "execution_count": null,
      "outputs": []
    },
    {
      "cell_type": "code",
      "source": [
        "#ejercicio no5\n",
        "\n",
        "mi_lista = (1,2,3,4,5,6,7,8,9,10)\n",
        "for i in mi_lista:\n",
        "  print(i)"
      ],
      "metadata": {
        "id": "yFyu6miqRqyc"
      },
      "execution_count": null,
      "outputs": []
    },
    {
      "cell_type": "code",
      "source": [
        "#ejercicio 6\n",
        "\n",
        "mi_lista = (1,2,3,4,5,6,7,8,9,10)\n",
        "for i in mi_lista:\n",
        "  print(f\"{i}guanenta 200 años!\")"
      ],
      "metadata": {
        "id": "wbP5F-vuUjj7"
      },
      "execution_count": null,
      "outputs": []
    },
    {
      "cell_type": "code",
      "source": [
        "# ejercicio 7\n",
        "\n",
        "dias_semana = [\"lu,ma,mi,ju,vi,sa,do\"]\n",
        "for i in dias_semana:\n",
        "  print(i)\n"
      ],
      "metadata": {
        "id": "ev0ThP53VOsM"
      },
      "execution_count": null,
      "outputs": []
    },
    {
      "cell_type": "code",
      "source": [
        "#ejercicio 8\n",
        "\n",
        "mi_listica = [1, 3.14, 9, True, \"abril\", 8, \"guanenta\"]\n",
        "for i in mi_listica:\n",
        "  print(i)"
      ],
      "metadata": {
        "id": "Sa6qTJ-jWTLM"
      },
      "execution_count": null,
      "outputs": []
    },
    {
      "cell_type": "code",
      "source": [
        "#ejercicio 9\n",
        "\n",
        "nombre = input(\"dijite su nombre\")\n",
        "\n",
        "for i in nombre:\n",
        "  print(i)\n"
      ],
      "metadata": {
        "id": "8Bd__0b1XR8O"
      },
      "execution_count": null,
      "outputs": []
    },
    {
      "cell_type": "code",
      "source": [
        "#ejercicio 10\n",
        "\n",
        "nombre = input(\"dijite su nombre\")\n",
        "\n",
        "for i in nombre:\n",
        "  if i == \"e\":\n",
        "   print(\"*\")\n",
        "  else:\n",
        "    print(i)"
      ],
      "metadata": {
        "id": "xRGtA9nGZK8X"
      },
      "execution_count": null,
      "outputs": []
    },
    {
      "cell_type": "code",
      "source": [
        "#ejercicio 11\n",
        "\n",
        "nombre = input(\"dijite su nombre \")\n",
        "\n",
        "for i in nombre:\n",
        "  print(i.upper())\n"
      ],
      "metadata": {
        "id": "RuxEbRiFbQ6L"
      },
      "execution_count": null,
      "outputs": []
    },
    {
      "cell_type": "markdown",
      "source": [
        "Taller estructura repetitiva for\n"
      ],
      "metadata": {
        "id": "G3Ai9QRLSq-L"
      }
    },
    {
      "cell_type": "code",
      "source": [
        "# ejercicio 1\n",
        "\n",
        "numeros = [20, 21, 30, 41, 50, 51, 20]\n",
        "\n",
        "for numero in numeros:\n",
        "    if numero % 10 != 1:\n",
        "        print(numero)\n"
      ],
      "metadata": {
        "id": "J35brLLWb0ZF"
      },
      "execution_count": null,
      "outputs": []
    },
    {
      "cell_type": "code",
      "source": [
        "# ejercicio 2\n",
        "\n",
        "for _ in range(1000):\n",
        "    print(\"Programación\")\n"
      ],
      "metadata": {
        "id": "wXVvnzMOG391"
      },
      "execution_count": null,
      "outputs": []
    },
    {
      "cell_type": "code",
      "source": [
        "#ejercicio 3\n",
        "\n",
        "\n",
        "meses = {\n",
        "    \"E\": \"Enero\",\n",
        "    \"F\": \"Febrero\",\n",
        "    \"M\": \"Marzo\",\n",
        "    \"A\": \"Abril\"\n",
        "}\n",
        "\n",
        "iniciales_meses = [\"E\", \"F\", \"M\", \"A\"]\n",
        "\n",
        "for inicial in iniciales_meses:\n",
        "    print(meses[inicial])\n"
      ],
      "metadata": {
        "colab": {
          "base_uri": "https://localhost:8080/"
        },
        "id": "GCJE1Jz6IwmL",
        "outputId": "b1799054-0375-4e04-cb58-208044693b58"
      },
      "execution_count": 5,
      "outputs": [
        {
          "output_type": "stream",
          "name": "stdout",
          "text": [
            "Enero\n",
            "Febrero\n",
            "Marzo\n",
            "Abril\n"
          ]
        }
      ]
    },
    {
      "cell_type": "code",
      "source": [
        "#ejercicio 4\n",
        "\n",
        "def contar_vocales(texto):\n",
        "    return {v: texto.lower().count(v) for v in 'aeiouáéíóú' if texto.lower().count(v) > 0}\n",
        "texto = input(\"Ingrese el texto: \")\n",
        "recuento = contar_vocales(texto)\n",
        "print(\"Recuento de vocales:\")\n",
        "for vocal, count in recuento.items():\n",
        "    print(f\"{vocal}: {count}\")\n"
      ],
      "metadata": {
        "colab": {
          "base_uri": "https://localhost:8080/"
        },
        "id": "uBfGIWw2I6Qa",
        "outputId": "be2e49a1-994d-429a-c433-42553ca6eb55"
      },
      "execution_count": 7,
      "outputs": [
        {
          "output_type": "stream",
          "name": "stdout",
          "text": [
            "Ingrese el texto: Esta versión utiliza la función count para contar la frecuencia de cada vocal en el texto, teniendo en cuenta tanto las vocales en minúscula como en mayúscula. Luego, se crea un diccionario con las frecuencias de las vocales que aparecen al menos una vez en el texto. Finalmente, se imprime el recuento de cada vocal.\n",
            "Recuento de vocales:\n",
            "a: 32\n",
            "e: 38\n",
            "i: 14\n",
            "o: 18\n",
            "u: 13\n",
            "ó: 2\n",
            "ú: 2\n"
          ]
        }
      ]
    },
    {
      "cell_type": "markdown",
      "source": [
        "# ejercicio 5\n",
        "\n",
        "1. El flujo comienza.\n",
        "2. Se inicializa el bucle `for`.\n",
        "3. Se ejecuta el bloque de código dentro del bucle para el primer elemento de la secuencia.\n",
        "4. Se verifica si hay más elementos en la secuencia.\n",
        "    - Si hay más elementos, se ejecuta el bloque de código para el siguiente elemento.\n",
        "    - Si no hay más elementos, el bucle se detiene y el flujo continúa.\n",
        "5. El flujo continúa después del bucle `for`.\n"
      ],
      "metadata": {
        "id": "F-jKXeqkNY00"
      }
    },
    {
      "cell_type": "code",
      "source": [
        "# ejercicio 6\n",
        "\n",
        "\n",
        "pares, impares = sum(1 for _ in range(20) if int(input(\"Ingrese un número entero: \")) % 2 == 0), 20\n",
        "print(f\"Total de números pares: {pares}\")\n",
        "print(f\"Total de números impares: {impares - pares}\")\n"
      ],
      "metadata": {
        "id": "zUDukd8mNqil"
      },
      "execution_count": null,
      "outputs": []
    }
  ]
}